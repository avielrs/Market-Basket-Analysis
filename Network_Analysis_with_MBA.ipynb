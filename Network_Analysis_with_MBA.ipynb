{
 "cells": [
  {
   "cell_type": "code",
   "execution_count": 22,
   "metadata": {},
   "outputs": [],
   "source": [
    "import networkx as nx\n",
    "import numpy as np\n",
    "import pandas as pd\n",
    "from matplotlib import pyplot as plt\n",
    "%matplotlib inline\n",
    "from itertools import combinations\n",
    "\n",
    "# Import as dataframe\n",
    "df = pd.read_csv('MarketBasketAnalysis/GroceryStoreDataSet.csv', header = None)"
   ]
  },
  {
   "cell_type": "code",
   "execution_count": 23,
   "metadata": {},
   "outputs": [],
   "source": [
    "basket = []\n",
    "\n",
    "df.values[0, 0].split(',')\n",
    "\n",
    "for i in range(len(df)):\n",
    "    basket.append(df.values[i, 0].split(','))"
   ]
  },
  {
   "cell_type": "code",
   "execution_count": 24,
   "metadata": {},
   "outputs": [],
   "source": [
    "# Instantiate\n",
    "te = TransactionEncoder()\n",
    "\n",
    "# Fit and Transform the data into True and False (1 and 0)\n",
    "item = te.fit(basket).transform(basket)\n",
    "\n",
    "# Create DataFrame\n",
    "df = pd.DataFrame(item, columns = te.columns_)"
   ]
  },
  {
   "cell_type": "code",
   "execution_count": 25,
   "metadata": {},
   "outputs": [
    {
     "data": {
      "text/html": [
       "<div>\n",
       "<style scoped>\n",
       "    .dataframe tbody tr th:only-of-type {\n",
       "        vertical-align: middle;\n",
       "    }\n",
       "\n",
       "    .dataframe tbody tr th {\n",
       "        vertical-align: top;\n",
       "    }\n",
       "\n",
       "    .dataframe thead th {\n",
       "        text-align: right;\n",
       "    }\n",
       "</style>\n",
       "<table border=\"1\" class=\"dataframe\">\n",
       "  <thead>\n",
       "    <tr style=\"text-align: right;\">\n",
       "      <th></th>\n",
       "      <th>support</th>\n",
       "      <th>itemsets</th>\n",
       "    </tr>\n",
       "  </thead>\n",
       "  <tbody>\n",
       "    <tr>\n",
       "      <th>0</th>\n",
       "      <td>0.35</td>\n",
       "      <td>(BISCUIT)</td>\n",
       "    </tr>\n",
       "    <tr>\n",
       "      <th>1</th>\n",
       "      <td>0.20</td>\n",
       "      <td>(BOURNVITA)</td>\n",
       "    </tr>\n",
       "    <tr>\n",
       "      <th>2</th>\n",
       "      <td>0.65</td>\n",
       "      <td>(BREAD)</td>\n",
       "    </tr>\n",
       "    <tr>\n",
       "      <th>3</th>\n",
       "      <td>0.15</td>\n",
       "      <td>(COCK)</td>\n",
       "    </tr>\n",
       "    <tr>\n",
       "      <th>4</th>\n",
       "      <td>0.40</td>\n",
       "      <td>(COFFEE)</td>\n",
       "    </tr>\n",
       "    <tr>\n",
       "      <th>...</th>\n",
       "      <td>...</td>\n",
       "      <td>...</td>\n",
       "    </tr>\n",
       "    <tr>\n",
       "      <th>78</th>\n",
       "      <td>0.05</td>\n",
       "      <td>(BISCUIT, TEA, BREAD, MAGGI)</td>\n",
       "    </tr>\n",
       "    <tr>\n",
       "      <th>79</th>\n",
       "      <td>0.10</td>\n",
       "      <td>(BISCUIT, COCK, CORNFLAKES, COFFEE)</td>\n",
       "    </tr>\n",
       "    <tr>\n",
       "      <th>80</th>\n",
       "      <td>0.05</td>\n",
       "      <td>(MILK, BREAD, JAM, MAGGI)</td>\n",
       "    </tr>\n",
       "    <tr>\n",
       "      <th>81</th>\n",
       "      <td>0.05</td>\n",
       "      <td>(TEA, BREAD, JAM, MAGGI)</td>\n",
       "    </tr>\n",
       "    <tr>\n",
       "      <th>82</th>\n",
       "      <td>0.05</td>\n",
       "      <td>(MILK, COFFEE, TEA, CORNFLAKES)</td>\n",
       "    </tr>\n",
       "  </tbody>\n",
       "</table>\n",
       "<p>83 rows × 2 columns</p>\n",
       "</div>"
      ],
      "text/plain": [
       "    support                             itemsets\n",
       "0      0.35                            (BISCUIT)\n",
       "1      0.20                          (BOURNVITA)\n",
       "2      0.65                              (BREAD)\n",
       "3      0.15                               (COCK)\n",
       "4      0.40                             (COFFEE)\n",
       "..      ...                                  ...\n",
       "78     0.05         (BISCUIT, TEA, BREAD, MAGGI)\n",
       "79     0.10  (BISCUIT, COCK, CORNFLAKES, COFFEE)\n",
       "80     0.05            (MILK, BREAD, JAM, MAGGI)\n",
       "81     0.05             (TEA, BREAD, JAM, MAGGI)\n",
       "82     0.05      (MILK, COFFEE, TEA, CORNFLAKES)\n",
       "\n",
       "[83 rows x 2 columns]"
      ]
     },
     "execution_count": 25,
     "metadata": {},
     "output_type": "execute_result"
    }
   ],
   "source": [
    "# when max_len = 2, itemsets length ranges between 1 item and two items\n",
    "items = apriori(df, min_support=0.01, use_colnames=True, max_len = 4)\n",
    "items"
   ]
  },
  {
   "cell_type": "code",
   "execution_count": 26,
   "metadata": {},
   "outputs": [],
   "source": [
    "import numpy as np\n",
    "transactions = []\n",
    "for i in np.arange(0,len(items)):\n",
    "    transactions.append(list(items['itemsets'][i]))"
   ]
  },
  {
   "cell_type": "code",
   "execution_count": 27,
   "metadata": {},
   "outputs": [],
   "source": [
    "#holding dict\n",
    "mydict = {}\n",
    "\n",
    "for i in range(len(transactions)):\n",
    "    #2 combinations of baskets\n",
    "    for j,k in combinations(transactions[i],2):\n",
    "        #setdefauly, and append a 1 for each time it is found\n",
    "        mydict.setdefault((j,k),[]).append(1)   "
   ]
  },
  {
   "cell_type": "code",
   "execution_count": 28,
   "metadata": {},
   "outputs": [],
   "source": [
    "G = nx.Graph()\n",
    "#add the edges, if weight is greater than 20 - ie 20 transactions\n",
    "G.add_edges_from = [G.add_edge(i[0], i[1], weight = len(j)) for i,j in mydict.items() if len(j) > 0];"
   ]
  },
  {
   "cell_type": "code",
   "execution_count": 29,
   "metadata": {},
   "outputs": [
    {
     "name": "stderr",
     "output_type": "stream",
     "text": [
      "/Users/avielstern/opt/anaconda3/lib/python3.7/site-packages/networkx/drawing/nx_pylab.py:579: MatplotlibDeprecationWarning: \n",
      "The iterable function was deprecated in Matplotlib 3.1 and will be removed in 3.3. Use np.iterable instead.\n",
      "  if not cb.iterable(width):\n"
     ]
    },
    {
     "data": {
      "image/png": "[encoded data removed]",
      "text/plain": [
       "<Figure size 432x288 with 1 Axes>"
      ]
     },
     "metadata": {},
     "output_type": "display_data"
    }
   ],
   "source": [
    "#make a graph\n",
    "G = nx.Graph()\n",
    "#add the edges, if weight is greater than 20 - ie 20 transactions\n",
    "G.add_edges_from = [G.add_edge(i[0], i[1], weight = len(j)) for i,j in mydict.items() if len(j) > 2];\n",
    "\n",
    "degree_df = pd.DataFrame.from_dict(G.degree)\n",
    "nx.draw(G, node_size = degree_df[1]*100, with_labels=True)"
   ]
  },
  {
   "cell_type": "code",
   "execution_count": 30,
   "metadata": {},
   "outputs": [
    {
     "data": {
      "text/plain": [
       "[['COCK', 'BISCUIT', 'CORNFLAKES', 'COFFEE'],\n",
       " ['CORNFLAKES', 'BISCUIT', 'MILK', 'TEA'],\n",
       " ['CORNFLAKES', 'BISCUIT', 'MILK', 'COFFEE'],\n",
       " ['BREAD', 'MILK', 'BISCUIT', 'TEA', 'MAGGI'],\n",
       " ['BREAD', 'MILK', 'BISCUIT', 'COFFEE'],\n",
       " ['BREAD', 'MILK', 'JAM', 'TEA', 'MAGGI'],\n",
       " ['BREAD', 'SUGER', 'COFFEE'],\n",
       " ['BREAD', 'SUGER', 'BOURNVITA']]"
      ]
     },
     "execution_count": 30,
     "metadata": {},
     "output_type": "execute_result"
    }
   ],
   "source": [
    "list(nx.find_cliques(G))"
   ]
  },
  {
   "cell_type": "code",
   "execution_count": 31,
   "metadata": {},
   "outputs": [
    {
     "data": {
      "text/plain": [
       "{'BISCUIT': 0.10074074074074073,\n",
       " 'BREAD': 0.2788888888888889,\n",
       " 'COCK': 0.0,\n",
       " 'COFFEE': 0.12000000000000001,\n",
       " 'CORNFLAKES': 0.02962962962962963,\n",
       " 'MAGGI': 0.008333333333333333,\n",
       " 'MILK': 0.06648148148148149,\n",
       " 'TEA': 0.03962962962962963,\n",
       " 'BOURNVITA': 0.0,\n",
       " 'SUGER': 0.022962962962962963,\n",
       " 'JAM': 0.0}"
      ]
     },
     "execution_count": 31,
     "metadata": {},
     "output_type": "execute_result"
    }
   ],
   "source": [
    "nx.betweenness_centrality(G)"
   ]
  }
 ],
 "metadata": {
  "kernelspec": {
   "display_name": "Python 3",
   "language": "python",
   "name": "python3"
  },
  "language_info": {
   "codemirror_mode": {
    "name": "ipython",
    "version": 3
   },
   "file_extension": ".py",
   "mimetype": "text/x-python",
   "name": "python",
   "nbconvert_exporter": "python",
   "pygments_lexer": "ipython3",
   "version": "3.7.4"
  }
 },
 "nbformat": 4,
 "nbformat_minor": 2
}
